{
  "cells": [
    {
      "cell_type": "code",
      "source": [
        "import tensorflow as tf\n"
      ],
      "metadata": {
        "id": "-E2vVF6wZNEq"
      },
      "execution_count": 1,
      "outputs": []
    },
    {
      "cell_type": "code",
      "source": [
        "tenser_0d=tf.constant(1)"
      ],
      "metadata": {
        "id": "f7aCze7NbMRp"
      },
      "execution_count": 2,
      "outputs": []
    },
    {
      "cell_type": "code",
      "source": [
        "tenser_0d"
      ],
      "metadata": {
        "id": "U19naK5xbQwX",
        "outputId": "7b69b93f-8d84-4eed-fe52-2e5d0a948c24",
        "colab": {
          "base_uri": "https://localhost:8080/"
        }
      },
      "execution_count": 4,
      "outputs": [
        {
          "output_type": "execute_result",
          "data": {
            "text/plain": [
              "<tf.Tensor: shape=(), dtype=int32, numpy=1>"
            ]
          },
          "metadata": {},
          "execution_count": 4
        }
      ]
    },
    {
      "cell_type": "code",
      "source": [
        "print(tenser_0d)"
      ],
      "metadata": {
        "id": "67U27ZK9bcLl",
        "outputId": "7f8f5495-acde-4e1c-c8d7-9420a0b4cc17",
        "colab": {
          "base_uri": "https://localhost:8080/"
        }
      },
      "execution_count": 6,
      "outputs": [
        {
          "output_type": "stream",
          "name": "stdout",
          "text": [
            "tf.Tensor(1, shape=(), dtype=int32)\n"
          ]
        }
      ]
    },
    {
      "cell_type": "code",
      "source": [
        "tenser_0d.ndim"
      ],
      "metadata": {
        "id": "W5zSrCK3bild",
        "outputId": "2b7c0ca6-8f20-4ae4-d618-42e6b96a2ad0",
        "colab": {
          "base_uri": "https://localhost:8080/"
        }
      },
      "execution_count": 7,
      "outputs": [
        {
          "output_type": "execute_result",
          "data": {
            "text/plain": [
              "0"
            ]
          },
          "metadata": {},
          "execution_count": 7
        }
      ]
    },
    {
      "cell_type": "code",
      "source": [
        "tenser1d=tf.constant([1,2,3,4,5,6,7])\n",
        "print(tenser1d.shape)"
      ],
      "metadata": {
        "id": "ezFCnkWhdEOD",
        "outputId": "5bfdb2bc-bfaa-4943-daf1-6a178d64d1ed",
        "colab": {
          "base_uri": "https://localhost:8080/"
        }
      },
      "execution_count": 16,
      "outputs": [
        {
          "output_type": "stream",
          "name": "stdout",
          "text": [
            "(7,)\n"
          ]
        }
      ]
    },
    {
      "cell_type": "code",
      "source": [
        "tenser2d=tf.constant([[1,2,3],\n",
        "                      [4,5,6],\n",
        "                      [7,8,9]], dtype=tf.int64)\n",
        "print(tenser2d)\n",
        "print(tenser2d.shape)"
      ],
      "metadata": {
        "id": "b5MRFdwYdmLp",
        "outputId": "9fe0880f-8de6-4d6a-befc-a25cc3311176",
        "colab": {
          "base_uri": "https://localhost:8080/"
        }
      },
      "execution_count": 22,
      "outputs": [
        {
          "output_type": "stream",
          "name": "stdout",
          "text": [
            "tf.Tensor(\n",
            "[[1 2 3]\n",
            " [4 5 6]\n",
            " [7 8 9]], shape=(3, 3), dtype=int64)\n",
            "(3, 3)\n"
          ]
        }
      ]
    },
    {
      "cell_type": "code",
      "source": [
        "tenser3d=tf.constant([[[1,2,3],\n",
        "                      [4,5,6]],\n",
        "                      [[7,8,9],\n",
        "                      [10,11,12]]\n",
        "                      ], dtype=tf.int64)\n",
        "print(tenser3d)\n",
        "print(tenser3d.ndim)"
      ],
      "metadata": {
        "id": "rVCy9juVd3X8",
        "outputId": "dd709b66-286e-4ba8-a345-f6758a7cf045",
        "colab": {
          "base_uri": "https://localhost:8080/"
        }
      },
      "execution_count": 15,
      "outputs": [
        {
          "output_type": "stream",
          "name": "stdout",
          "text": [
            "tf.Tensor(\n",
            "[[[ 1  2  3]\n",
            "  [ 4  5  6]]\n",
            "\n",
            " [[ 7  8  9]\n",
            "  [10 11 12]]], shape=(2, 2, 3), dtype=int64)\n",
            "3\n"
          ]
        }
      ]
    },
    {
      "cell_type": "code",
      "source": [
        "print(tenser1d[1:4:2])"
      ],
      "metadata": {
        "id": "D8-oethBeT0C",
        "outputId": "082041b2-151d-49c6-de15-f7a77cf1abfe",
        "colab": {
          "base_uri": "https://localhost:8080/"
        }
      },
      "execution_count": 20,
      "outputs": [
        {
          "output_type": "stream",
          "name": "stdout",
          "text": [
            "tf.Tensor([2 4], shape=(2,), dtype=int32)\n"
          ]
        }
      ]
    },
    {
      "cell_type": "code",
      "source": [
        "print(tenser2d)"
      ],
      "metadata": {
        "id": "e5vp1E-jkbra",
        "outputId": "9b36adac-7e35-464f-d4eb-e0cdbbec9fd1",
        "colab": {
          "base_uri": "https://localhost:8080/"
        }
      },
      "execution_count": 23,
      "outputs": [
        {
          "output_type": "stream",
          "name": "stdout",
          "text": [
            "tf.Tensor(\n",
            "[[1 2 3]\n",
            " [4 5 6]\n",
            " [7 8 9]], shape=(3, 3), dtype=int64)\n"
          ]
        }
      ]
    },
    {
      "cell_type": "code",
      "source": [
        "print(tenser2d[0:3:2,0:3:2])"
      ],
      "metadata": {
        "id": "0W4RAOAQkrIu",
        "outputId": "69e29762-a705-4821-826d-6d03cb0d8c5e",
        "colab": {
          "base_uri": "https://localhost:8080/"
        }
      },
      "execution_count": 28,
      "outputs": [
        {
          "output_type": "stream",
          "name": "stdout",
          "text": [
            "tf.Tensor(\n",
            "[[1 3]\n",
            " [7 9]], shape=(2, 2), dtype=int64)\n"
          ]
        }
      ]
    },
    {
      "cell_type": "code",
      "source": [
        ""
      ],
      "metadata": {
        "id": "2xUvM2tYk4KL"
      },
      "execution_count": null,
      "outputs": []
    }
  ],
  "metadata": {
    "colab": {
      "name": "Welcome to Colaboratory",
      "provenance": []
    },
    "kernelspec": {
      "display_name": "Python 3",
      "name": "python3"
    }
  },
  "nbformat": 4,
  "nbformat_minor": 0
}